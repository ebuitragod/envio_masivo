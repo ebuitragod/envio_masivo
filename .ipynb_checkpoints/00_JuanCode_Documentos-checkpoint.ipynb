{
 "cells": [
  {
   "cell_type": "code",
   "execution_count": 5,
   "metadata": {},
   "outputs": [],
   "source": [
    "import smtplib\n",
    "from email.mime.text import MIMEText\n",
    "from email.mime.multipart import MIMEMultipart\n",
    "from email.mime.base import MIMEBase\n",
    "from email import encoders\n",
    "import os.path\n",
    "from docx2pdf import convert\n",
    "import PyPDF2\n",
    "import os\n",
    "import argparse\n",
    "import pandas as pd\n",
    "from __future__ import print_function\n",
    "from mailmerge import MailMerge\n",
    "from datetime import date"
   ]
  },
  {
   "cell_type": "code",
   "execution_count": 7,
   "metadata": {},
   "outputs": [],
   "source": [
    "##Cambiar archivo de word a pdf\n",
    "def convertir(input_archivo):\n",
    "    convert(input_archivo)\n",
    "    print('archivo '+input_archivo+ ' cambiado a pdf')\n",
    "#convert(\"CC 9194_01 AD 2020 - 12 NOVIEMBRE AUTOAPLICADO-TELEFONICO V3 - copia.docx\", \"prueba.pdf\")\n",
    "#convert(\"my_docx_folder/\")"
   ]
  },
  {
   "cell_type": "code",
   "execution_count": 8,
   "metadata": {},
   "outputs": [],
   "source": [
    "##Encriptar PDF\n",
    "def set_password(input_file, user_pass, owner_pass):\n",
    "    \"\"\"\n",
    "    Function creates new temporary pdf file with same content,\n",
    "    assigns given password to pdf and rename it with original file.\n",
    "    \"\"\"\n",
    "    # temporary output file with name same as input file but prepended\n",
    "    # by \"temp_\", inside same direcory as input file.\n",
    "    path, filename = os.path.split(input_file)\n",
    "    output_file = os.path.join(path, \"temp_\" + filename)\n",
    "\n",
    " \n",
    "\n",
    "    output = PyPDF2.PdfFileWriter()\n",
    "\n",
    " \n",
    "\n",
    "    input_stream = PyPDF2.PdfFileReader(open(input_file, \"rb\"))\n",
    "\n",
    " \n",
    "\n",
    "    for i in range(0, input_stream.getNumPages()):\n",
    "        output.addPage(input_stream.getPage(i))\n",
    "\n",
    " \n",
    "\n",
    "    outputStream = open(output_file, \"wb\")\n",
    "\n",
    " \n",
    "\n",
    "    # Set user and owner password to pdf file\n",
    "    output.encrypt(user_pass, owner_pass, use_128bit=True)\n",
    "    output.write(outputStream)\n",
    "    outputStream.close()\n",
    "\n",
    " \n",
    "\n",
    "    # Rename temporary output file with original filename, this\n",
    "    # will automatically delete temporary file\n",
    "    #os.rename(output_file, input_file)\n",
    "def main():\n",
    "    parser = argparse.ArgumentParser()\n",
    "    parser.add_argument('-i', '--input_pdf', required=True,\n",
    "                        help='Input pdf file')\n",
    "    parser.add_argument('-p', '--user_password', required=True,\n",
    "                        help='output CSV file')\n",
    "    parser.add_argument('-o', '--owner_password', default=None,\n",
    "                        help='Owner Password')\n",
    "    args = parser.parse_args()\n",
    "    set_password(args.input_pdf, args.user_password, args.owner_password)\n",
    "\n",
    "\n",
    "\n",
    "#if __name__ == \"__main__\":\n",
    "  #  main()"
   ]
  },
  {
   "cell_type": "code",
   "execution_count": 9,
   "metadata": {},
   "outputs": [],
   "source": [
    "##Mandar Correo\n",
    "def send_email(email_recipient,\n",
    "               email_subject,\n",
    "               email_message,\n",
    "               attachment_location = ''):\n",
    "\n",
    "    email_sender = 'jelemoine@cnccol.com'\n",
    "\n",
    "    msg = MIMEMultipart()\n",
    "    msg['From'] = email_sender\n",
    "    msg['To'] = email_recipient\n",
    "    msg['Subject'] = email_subject\n",
    "\n",
    "    msg.attach(MIMEText(email_message, 'plain'))\n",
    "\n",
    "    if attachment_location != '':\n",
    "        filename = os.path.basename(attachment_location)\n",
    "        attachment = open(attachment_location, \"rb\")\n",
    "        part = MIMEBase('application', 'octet-stream')\n",
    "        part.set_payload(attachment.read())\n",
    "        encoders.encode_base64(part)\n",
    "        part.add_header('Content-Disposition',\n",
    "                        \"attachment; filename= %s\" % filename)\n",
    "        msg.attach(part)\n",
    "\n",
    "    try:\n",
    "        server = smtplib.SMTP('smtp.office365.com', 587)\n",
    "        server.ehlo()\n",
    "        server.starttls()\n",
    "        server.login('jelemoine@cnccol.com', 'Cristobal_1996')\n",
    "        text = msg.as_string()\n",
    "        server.sendmail(email_sender, email_recipient, text)\n",
    "        print('email sent')\n",
    "        server.quit()\n",
    "    except:\n",
    "        print(\"SMPT server connection error\")\n",
    "    return True\n",
    "\n"
   ]
  },
  {
   "cell_type": "code",
   "execution_count": 7,
   "metadata": {},
   "outputs": [],
   "source": [
    "##HACER DOCUMANTOS DE WORD\n",
    "def documentos(cedula,nombre,duracion,output,plantilla=''):\n",
    "\n",
    "    template = plantilla\n",
    "    document = MailMerge(template)\n",
    "    document.merge(\n",
    "        CEDULA=cedula,\n",
    "        NOMBRE_COMPLETO=nombre,\n",
    "        DURACIÓN=duracion,\n",
    "    )\n",
    "\n",
    "    document.write(output+'.docx')\n",
    "    print('documento de '+cedula+' creado')"
   ]
  },
  {
   "cell_type": "code",
   "execution_count": 14,
   "metadata": {},
   "outputs": [
    {
     "data": {
      "application/vnd.jupyter.widget-view+json": {
       "model_id": "444d8b1e43de4eeeb8864f1f494692af",
       "version_major": 2,
       "version_minor": 0
      },
      "text/plain": [
       "HBox(children=(FloatProgress(value=0.0, max=1.0), HTML(value='')))"
      ]
     },
     "metadata": {},
     "output_type": "display_data"
    },
    {
     "name": "stdout",
     "output_type": "stream",
     "text": [
      "archivo CC 9194_01 AD 2020 - 12 NOVIEMBRE AUTOAPLICADO-TELEFONICO V3 - copia.docx cambiado a pdf\n",
      "email sent\n"
     ]
    },
    {
     "data": {
      "text/plain": [
       "True"
      ]
     },
     "execution_count": 14,
     "metadata": {},
     "output_type": "execute_result"
    }
   ],
   "source": [
    "for nom in base:\n",
    "    try:\n",
    "    documentos(cedula,nombre,duracion,output,plantilla=''):\n",
    "    convertir('CC 9194_01 AD 2020 - 12 NOVIEMBRE AUTOAPLICADO-TELEFONICO V3 - copia.docx')\n",
    "    set_password('CC 9194_01 AD 2020 - 12 NOVIEMBRE AUTOAPLICADO-TELEFONICO V3 - copia.pdf', '123', '1234')\n",
    "    send_email('ebuitrago@cnccol.com',\n",
    "               'Prueba',\n",
    "               'Hola Adjunto formulario', \n",
    "               'temp_CC 9194_01 AD 2020 - 12 NOVIEMBRE AUTOAPLICADO-TELEFONICO V3 - copia.pdf')\n",
    "    sleep(2)\n"
   ]
  },
  {
   "cell_type": "code",
   "execution_count": 4,
   "metadata": {},
   "outputs": [],
   "source": [
    "from validate_email import validate_email\n",
    "\n",
    "is_valid = validate_email('jelemoine@cnccol.com')"
   ]
  },
  {
   "cell_type": "code",
   "execution_count": 5,
   "metadata": {},
   "outputs": [
    {
     "name": "stdout",
     "output_type": "stream",
     "text": [
      "True\n"
     ]
    }
   ],
   "source": [
    "print(is_valid)"
   ]
  },
  {
   "cell_type": "code",
   "execution_count": null,
   "metadata": {},
   "outputs": [],
   "source": []
  },
  {
   "cell_type": "code",
   "execution_count": null,
   "metadata": {},
   "outputs": [],
   "source": []
  },
  {
   "cell_type": "code",
   "execution_count": null,
   "metadata": {},
   "outputs": [],
   "source": []
  },
  {
   "cell_type": "code",
   "execution_count": null,
   "metadata": {},
   "outputs": [],
   "source": [
    "\n",
    "\n",
    "def send_email(email_recipient,\n",
    "               email_subject,\n",
    "               email_message,\n",
    "               attachment_location = ''):\n",
    " \n",
    "    email_sender = 'jelemoine@cnccol.com'\n",
    " \n",
    "    msg = MIMEMultipart()\n",
    "    msg['From'] = email_sender\n",
    "    msg['To'] = email_recipient\n",
    "    msg['Subject'] = email_subject\n",
    " \n",
    "    msg.attach(MIMEText(email_message, 'plain'))\n",
    " \n",
    "    if attachment_location != '':\n",
    "        filename = os.path.basename(attachment_location)\n",
    "        attachment = open(attachment_location, \"rb\")\n",
    "        part = MIMEBase('application', 'octet-stream')\n",
    "        part.set_payload(attachment.read())\n",
    "        encoders.encode_base64(part)\n",
    "        part.add_header('Content-Disposition',\n",
    "                        \"attachment; filename= %s\" % filename)\n",
    "        msg.attach(part)\n",
    " \n",
    "    try:\n",
    "        server = smtplib.SMTP('smtp.office365.com', 587)\n",
    "        server.ehlo()\n",
    "        server.starttls()\n",
    "        server.login('jelemoine@cnccol.com', 'Cristobal-1996')\n",
    "        text = msg.as_string()\n",
    "        server.sendmail(email_sender, email_recipient, text)\n",
    "        print('email sent')\n",
    "        server.quit()\n",
    "    except:\n",
    "        print(\"SMPT server connection error\")\n",
    "    return True\n",
    "\n",
    "send_email('ebuiltrago@cnccol.com',\n",
    "           'Prueba',\n",
    "           'Hola Adjunto formulario', \n",
    "           'CC 9194_01 AD 2020 - 12 NOVIEMBRE AUTOAPLICADO-TELEFONICO V3 - copia.pdf')\n"
   ]
  },
  {
   "cell_type": "code",
   "execution_count": 1,
   "metadata": {},
   "outputs": [],
   "source": [
    "fo\n",
    "send_email('ebuiltrago@cnccol.com',\n",
    "           'Prueba',\n",
    "           'Hola Adjunto formulario', \n",
    "           'CC 9194_01 AD 2020 - 12 NOVIEMBRE AUTOAPLICADO-TELEFONICO V3 - copia.pdf')\n",
    "\n",
    " "
   ]
  },
  {
   "cell_type": "code",
   "execution_count": 2,
   "metadata": {},
   "outputs": [],
   "source": [
    "\n",
    "def set_password(input_file, user_pass, owner_pass):\n",
    "    \"\"\"\n",
    "    Function creates new temporary pdf file with same content,\n",
    "    assigns given password to pdf and rename it with original file.\n",
    "    \"\"\"\n",
    "    # temporary output file with name same as input file but prepended\n",
    "    # by \"temp_\", inside same direcory as input file.\n",
    "    path, filename = os.path.split(input_file)\n",
    "    output_file = os.path.join(path, \"temp_\" + filename)\n",
    "\n",
    " \n",
    "\n",
    "    output = PyPDF2.PdfFileWriter()\n",
    "\n",
    " \n",
    "\n",
    "    input_stream = PyPDF2.PdfFileReader(open(input_file, \"rb\"))\n",
    "\n",
    " \n",
    "\n",
    "    for i in range(0, input_stream.getNumPages()):\n",
    "        output.addPage(input_stream.getPage(i))\n",
    "\n",
    " \n",
    "\n",
    "    outputStream = open(output_file, \"wb\")\n",
    "\n",
    " \n",
    "\n",
    "    # Set user and owner password to pdf file\n",
    "    output.encrypt(user_pass, owner_pass, use_128bit=True)\n",
    "    output.write(outputStream)\n",
    "    outputStream.close()\n",
    "\n",
    " \n",
    "\n",
    "    # Rename temporary output file with original filename, this\n",
    "    # will automatically delete temporary file\n",
    "    #os.rename(output_file, input_file)\n",
    "\n",
    " \n",
    "\n",
    "\n"
   ]
  },
  {
   "cell_type": "code",
   "execution_count": 3,
   "metadata": {},
   "outputs": [
    {
     "name": "stderr",
     "output_type": "stream",
     "text": [
      "usage: ipykernel_launcher.py [-h] -i INPUT_PDF -p USER_PASSWORD [-o OWNER_PASSWORD]\n",
      "ipykernel_launcher.py: error: the following arguments are required: -i/--input_pdf, -p/--user_password\n"
     ]
    },
    {
     "ename": "SystemExit",
     "evalue": "2",
     "output_type": "error",
     "traceback": [
      "An exception has occurred, use %tb to see the full traceback.\n",
      "\u001b[1;31mSystemExit\u001b[0m\u001b[1;31m:\u001b[0m 2\n"
     ]
    },
    {
     "name": "stderr",
     "output_type": "stream",
     "text": [
      "C:\\Users\\Administrador\\anaconda3\\lib\\site-packages\\IPython\\core\\interactiveshell.py:3351: UserWarning: To exit: use 'exit', 'quit', or Ctrl-D.\n",
      "  warn(\"To exit: use 'exit', 'quit', or Ctrl-D.\", stacklevel=1)\n"
     ]
    }
   ],
   "source": [
    "def main():\n",
    "    parser = argparse.ArgumentParser()\n",
    "    parser.add_argument('-i', '--input_pdf', required=True,\n",
    "                        help='Input pdf file')\n",
    "    parser.add_argument('-p', '--user_password', required=True,\n",
    "                        help='output CSV file')\n",
    "    parser.add_argument('-o', '--owner_password', default=None,\n",
    "                        help='Owner Password')\n",
    "    args = parser.parse_args()\n",
    "    set_password(args.input_pdf, args.user_password, args.owner_password)\n",
    "\n",
    "\n",
    "\n",
    "if __name__ == \"__main__\":\n",
    "    main()"
   ]
  },
  {
   "cell_type": "code",
   "execution_count": 5,
   "metadata": {},
   "outputs": [
    {
     "ename": "FileExistsError",
     "evalue": "[WinError 183] No se puede crear un archivo que ya existe: 'temp_CC 9194_01 AD 2020 - 12 NOVIEMBRE AUTOAPLICADO-TELEFONICO V3 - copia.pdf' -> 'CC 9194_01 AD 2020 - 12 NOVIEMBRE AUTOAPLICADO-TELEFONICO V3 - copia.pdf'",
     "output_type": "error",
     "traceback": [
      "\u001b[1;31m---------------------------------------------------------------------------\u001b[0m",
      "\u001b[1;31mFileExistsError\u001b[0m                           Traceback (most recent call last)",
      "\u001b[1;32m<ipython-input-5-7a1f693a4ad6>\u001b[0m in \u001b[0;36m<module>\u001b[1;34m\u001b[0m\n\u001b[1;32m----> 1\u001b[1;33m \u001b[0mset_password\u001b[0m\u001b[1;33m(\u001b[0m\u001b[1;34m'CC 9194_01 AD 2020 - 12 NOVIEMBRE AUTOAPLICADO-TELEFONICO V3 - copia.pdf'\u001b[0m\u001b[1;33m,\u001b[0m \u001b[1;34m'123'\u001b[0m\u001b[1;33m,\u001b[0m \u001b[1;34m'1234'\u001b[0m\u001b[1;33m)\u001b[0m\u001b[1;33m\u001b[0m\u001b[1;33m\u001b[0m\u001b[0m\n\u001b[0m",
      "\u001b[1;32m<ipython-input-4-416e27d2a187>\u001b[0m in \u001b[0;36mset_password\u001b[1;34m(input_file, user_pass, owner_pass)\u001b[0m\n\u001b[0;32m     37\u001b[0m     \u001b[1;31m# Rename temporary output file with original filename, this\u001b[0m\u001b[1;33m\u001b[0m\u001b[1;33m\u001b[0m\u001b[1;33m\u001b[0m\u001b[0m\n\u001b[0;32m     38\u001b[0m     \u001b[1;31m# will automatically delete temporary file\u001b[0m\u001b[1;33m\u001b[0m\u001b[1;33m\u001b[0m\u001b[1;33m\u001b[0m\u001b[0m\n\u001b[1;32m---> 39\u001b[1;33m     \u001b[0mos\u001b[0m\u001b[1;33m.\u001b[0m\u001b[0mrename\u001b[0m\u001b[1;33m(\u001b[0m\u001b[0moutput_file\u001b[0m\u001b[1;33m,\u001b[0m \u001b[0minput_file\u001b[0m\u001b[1;33m)\u001b[0m\u001b[1;33m\u001b[0m\u001b[1;33m\u001b[0m\u001b[0m\n\u001b[0m\u001b[0;32m     40\u001b[0m \u001b[1;33m\u001b[0m\u001b[0m\n\u001b[0;32m     41\u001b[0m \u001b[1;33m\u001b[0m\u001b[0m\n",
      "\u001b[1;31mFileExistsError\u001b[0m: [WinError 183] No se puede crear un archivo que ya existe: 'temp_CC 9194_01 AD 2020 - 12 NOVIEMBRE AUTOAPLICADO-TELEFONICO V3 - copia.pdf' -> 'CC 9194_01 AD 2020 - 12 NOVIEMBRE AUTOAPLICADO-TELEFONICO V3 - copia.pdf'"
     ]
    }
   ],
   "source": [
    "set_password('CC 9194_01 AD 2020 - 12 NOVIEMBRE AUTOAPLICADO-TELEFONICO V3 - copia.pdf', '123', '1234')"
   ]
  },
  {
   "cell_type": "code",
   "execution_count": 7,
   "metadata": {},
   "outputs": [
    {
     "name": "stdout",
     "output_type": "stream",
     "text": [
      "Requirement already satisfied: pypdf2 in c:\\users\\administrador\\anaconda3\\lib\\site-packages (1.26.0)\n",
      "Note: you may need to restart the kernel to use updated packages.\n"
     ]
    }
   ],
   "source": [
    "pip install pypdf2\n"
   ]
  },
  {
   "cell_type": "code",
   "execution_count": null,
   "metadata": {},
   "outputs": [],
   "source": []
  }
 ],
 "metadata": {
  "kernelspec": {
   "display_name": "Python 3",
   "language": "python",
   "name": "python3"
  },
  "language_info": {
   "codemirror_mode": {
    "name": "ipython",
    "version": 3
   },
   "file_extension": ".py",
   "mimetype": "text/x-python",
   "name": "python",
   "nbconvert_exporter": "python",
   "pygments_lexer": "ipython3",
   "version": "3.8.3"
  }
 },
 "nbformat": 4,
 "nbformat_minor": 4
}
