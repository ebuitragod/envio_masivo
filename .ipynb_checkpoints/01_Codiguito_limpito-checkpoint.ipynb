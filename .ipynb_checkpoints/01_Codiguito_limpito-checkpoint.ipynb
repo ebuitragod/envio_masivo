{
 "cells": [
  {
   "cell_type": "markdown",
   "metadata": {},
   "source": [
    "Pasos: \n",
    "1. Escribir el documento\n",
    "2. Llenar el documento\n",
    "3. Exportarlo a pdf\n",
    "4. setear la contraseña del pdf\n",
    "5. configurar el envío de correos"
   ]
  },
  {
   "cell_type": "code",
   "execution_count": 7,
   "metadata": {},
   "outputs": [],
   "source": [
    "#Escribir y llenar el documento\n",
    "import pandas as pd\n",
    "from __future__ import print_function\n",
    "#from mailmerge import MailMerge\n",
    "import mailmerge\n",
    "from datetime import date\n",
    "\n",
    "#Exportarlo a pdf\n",
    "from fpdf import FPDF \n",
    "from docx2pdf import convert\n",
    "\n",
    "#Setear la contraseña\n",
    "import PyPDF2\n",
    "import os\n",
    "import argparse\n",
    "\n",
    "#Enviar correos masivos"
   ]
  },
  {
   "cell_type": "markdown",
   "metadata": {},
   "source": [
    "Escribir y llenar el documento"
   ]
  },
  {
   "cell_type": "code",
   "execution_count": 15,
   "metadata": {},
   "outputs": [],
   "source": [
    "def convert_to_pdf(input_docx, out_folder):\n",
    "    from subprocess import  Popen\n",
    "    LIBRE_OFFICE = r\"/usr/bin/soffice\"\n",
    "\n",
    "    p = Popen([LIBRE_OFFICE, '--headless', '--convert-to', 'pdf', '--outdir',\n",
    "               out_folder, input_docx])\n",
    "    print([LIBRE_OFFICE, '--convert-to', 'pdf', input_docx])\n",
    "    p.communicate()\n",
    "    \n",
    "    \n",
    "def write_docs(cedula, nombre_completo, nombre_output,  template, path_output_docx = '', path_output_pdf = ''):\n",
    "    \"\"\"\n",
    "    Esta función crea un .docx, lo pasa a formato pdf y setea un password. \n",
    "    Los fields del template son {'CEDULA', 'DURACIÓN', 'NOMBRE_COMPLETO', 'firma'}.\n",
    "    Luego lo conviLIBRE_OFFICE = r\"C:\\Program Files\\LibreOffice\\program\\soffice.exe\"\n",
    "    \"\"\"\n",
    "\n",
    "    document = mailmerge.MailMerge(template)\n",
    "    print(\"Fields included in {}: {}\".format(template,\n",
    "                                             document.get_merge_fields()))\n",
    "\n",
    "    document.merge(\n",
    "        CEDULA = cedula,\n",
    "        NOMBRE_COMPLETO = nombre_completo,\n",
    "        DURACIÓN = 'Un mes',\n",
    "        firma = '',\n",
    "        VIGENCIA = '1 al 31 de diciembre',\n",
    "    )\n",
    "    #Crear documentos en word\n",
    "    output_docx = path_output_docx + nombre_output + '.docx'\n",
    "    \n",
    "    document.write(output_docx)\n",
    "    print('El documento .docx de '+ cedula + '-' + nombre_completo +'ha sido creado exitosamente.')\n",
    "    \n",
    "    input_docx = output_docx\n",
    "    #Crear documentos en pdf\n",
    "    convert_to_pdf(input_docx, path_output_pdf)\n",
    "\n",
    "\n",
    "#documentation https://pbpython.com/python-word-template.html\n",
    "# Define the templates - assumes they are in the same directory as the code\n"
   ]
  },
  {
   "cell_type": "code",
   "execution_count": 16,
   "metadata": {},
   "outputs": [
    {
     "name": "stdout",
     "output_type": "stream",
     "text": [
      "Fields included in 01_codificadores/01_CC6193-01 Minuta codificador(a) Icfes VF 231120.docx: {'CEDULA', 'NOMBRE_COMPLETO', 'VIGENCIA', 'DURACIÓN', 'firma'}\n",
      "El documento .docx de 1020738980-Esperanza vuitragoha sido creado exitosamente.\n",
      "['/usr/bin/soffice', '--convert-to', 'pdf', '02_pruebas/1020738980 - Esperanza vuitrago: Contrato como codificador. CNC.docx']\n"
     ]
    }
   ],
   "source": [
    "path = '01_codificadores/'\n",
    "contrato = path + '01_CC6193-01 Minuta codificador(a) Icfes VF 231120.docx'\n",
    "template = contrato\n",
    "document = mailmerge.MailMerge(template)\n",
    "path_output_docx = '02_pruebas/'\n",
    "path_output_pdf = path_output_docx\n",
    "#print(\"Fields included in {}: {}\".format(template,\n",
    "#                                             document.get_merge_fields()))\n",
    "\n",
    "cedula = '1020738980'\n",
    "nombre_completo = 'Esperanza vuitrago'\n",
    "nombre_output = cedula + ' - ' + nombre_completo + ': Contrato como codificador. CNC'\n",
    "\n",
    "\n",
    "write_docs(cedula, nombre_completo, nombre_output,  template, path_output_docx, path_output_pdf)\n"
   ]
  },
  {
   "cell_type": "markdown",
   "metadata": {},
   "source": [
    "Exportarlo a .pdf y setear la contrase;a"
   ]
  },
  {
   "cell_type": "code",
   "execution_count": 17,
   "metadata": {},
   "outputs": [],
   "source": [
    "#Set a password\n",
    "def set_password(input_file, user_pass, owner_pass):\n",
    "    \"\"\"\n",
    "    Function creates new temporary pdf file with same content,\n",
    "    assigns given password to pdf and rename it with original file.\n",
    "    \"\"\"\n",
    "    # temporary output file with name same as input file but prepended\n",
    "    # by \"temp_\", inside same direcory as input file.\n",
    "    path, filename = os.path.split(input_file)\n",
    "    output_file = os.path.join(path, \"contrato_\" + filename)\n",
    "\n",
    " \n",
    "\n",
    "    output = PyPDF2.PdfFileWriter()\n",
    "\n",
    " \n",
    "\n",
    "    input_stream = PyPDF2.PdfFileReader(open(input_file, \"rb\"))\n",
    "\n",
    " \n",
    "\n",
    "    for i in range(0, input_stream.getNumPages()):\n",
    "        output.addPage(input_stream.getPage(i))\n",
    "\n",
    " \n",
    "\n",
    "    outputStream = open(output_file, \"wb\")\n",
    "\n",
    " \n",
    "\n",
    "    # Set user and owner password to pdf file\n",
    "    output.encrypt(user_pass, owner_pass, use_128bit=True)\n",
    "    output.write(outputStream)\n",
    "    outputStream.close()\n",
    "\n",
    " \n",
    "\n",
    "    # Rename temporary output file with original filename, this\n",
    "    # will automatically delete temporary file\n",
    "    #os.rename(output_file, input_file)\n",
    "\n",
    "# def main():\n",
    "#     parser = argparse.ArgumentParser()\n",
    "#     parser.add_argument('-i', '--input_pdf', required=True,\n",
    "#                         help='Input pdf file')\n",
    "#     parser.add_argument('-p', '--user_password', required=True,\n",
    "#                         help='output CSV file')\n",
    "#     parser.add_argument('-o', '--owner_password', default=None,\n",
    "#                         help='Owner Password')\n",
    "#     args = parser.parse_args()\n",
    "#     set_password(args.input_pdf, args.user_password, args.owner_password)\n",
    "\n",
    "\n",
    "\n",
    "# if __name__ == \"__main__\":\n",
    "#     main()\n",
    "    \n"
   ]
  },
  {
   "cell_type": "code",
   "execution_count": null,
   "metadata": {},
   "outputs": [],
   "source": [
    "input_file = path_output_pdf + 'contrato_' + nombre_output + '.pdf'\n",
    "user_pass = cedula\n",
    "owner_pass = '75369512480'\n",
    "set_password(input_file, user_pass, owner_pass)"
   ]
  },
  {
   "cell_type": "code",
   "execution_count": 19,
   "metadata": {},
   "outputs": [
    {
     "ename": "NameError",
     "evalue": "name 'send_email' is not defined",
     "output_type": "error",
     "traceback": [
      "\u001b[0;31m---------------------------------------------------------------------------\u001b[0m",
      "\u001b[0;31mNameError\u001b[0m                                 Traceback (most recent call last)",
      "\u001b[0;32m<ipython-input-19-c3de92b44701>\u001b[0m in \u001b[0;36m<module>\u001b[0;34m\u001b[0m\n\u001b[1;32m      6\u001b[0m \u001b[0mattachment_location\u001b[0m \u001b[0;34m=\u001b[0m \u001b[0minput_file\u001b[0m\u001b[0;34m\u001b[0m\u001b[0;34m\u001b[0m\u001b[0m\n\u001b[1;32m      7\u001b[0m \u001b[0;34m\u001b[0m\u001b[0m\n\u001b[0;32m----> 8\u001b[0;31m send_email(email_recipient,\n\u001b[0m\u001b[1;32m      9\u001b[0m                \u001b[0memail_subject\u001b[0m\u001b[0;34m,\u001b[0m\u001b[0;34m\u001b[0m\u001b[0;34m\u001b[0m\u001b[0m\n\u001b[1;32m     10\u001b[0m                \u001b[0memail_message\u001b[0m\u001b[0;34m,\u001b[0m\u001b[0;34m\u001b[0m\u001b[0;34m\u001b[0m\u001b[0m\n",
      "\u001b[0;31mNameError\u001b[0m: name 'send_email' is not defined"
     ]
    }
   ],
   "source": [
    "content = open('email_codificadores.txt')\n",
    "\n",
    "#email_recipient = 'ebuitrago@cnccol.com'\n",
    "email_subject = 'ebuitragod@gmail.com'\n",
    "email_message = content.read()\n",
    "attachment_location = input_file\n",
    "\n",
    "send_email(email_recipient,\n",
    "               email_subject,\n",
    "               email_message,\n",
    "               attachment_location)\n"
   ]
  },
  {
   "cell_type": "code",
   "execution_count": 23,
   "metadata": {},
   "outputs": [],
   "source": [
    "import smtplib\n",
    "from email.mime.text import MIMEText\n",
    "from email.mime.multipart import MIMEMultipart\n",
    "from email.mime.base import MIMEBase\n",
    "from email import encoders\n",
    "import os.path\n",
    "from docx2pdf import convert\n",
    "import PyPDF2\n",
    "import os\n",
    "import argparse\n",
    "import pandas as pd\n",
    "from __future__ import print_function\n",
    "from mailmerge import MailMerge\n",
    "from datetime import date\n",
    "\n",
    "correo_envio = 'recursoshumanos1@cnccol.com'\n",
    "pass_correo_envio = 'Juanjo0921'\n",
    "\n",
    "def send_email(email_recipient,\n",
    "               email_subject,\n",
    "               email_message,\n",
    "               attachment_location = '',\n",
    "               attachment_location1 = ''):\n",
    "\n",
    "    email_sender = 'recursoshumanos1@cnccol.com'\n",
    "\n",
    "    msg = MIMEMultipart()\n",
    "    msg['From'] = email_sender\n",
    "    msg['To'] = email_recipient\n",
    "    msg['Subject'] = email_subject\n",
    "\n",
    "    msg.attach(MIMEText(email_message, 'plain'))\n",
    "\n",
    "    if attachment_location != '':\n",
    "        filename = os.path.basename(attachment_location)\n",
    "        attachment = open(attachment_location, \"rb\")\n",
    "        part = MIMEBase('application', 'octet-stream')\n",
    "        part.set_payload(attachment.read())\n",
    "        encoders.encode_base64(part)\n",
    "        part.add_header('Content-Disposition',\n",
    "                        \"attachment; filename= %s\" % filename)\n",
    "        msg.attach(part)\n",
    "\n",
    "        filename1 = os.path.basename(attachment_location1)\n",
    "        attachment1 = open(attachment_location1, \"rb\")\n",
    "        part = MIMEBase('application', 'octet-stream')\n",
    "        part.set_payload(attachment1.read())\n",
    "        encoders.encode_base64(part)\n",
    "        part.add_header('Content-Disposition',\n",
    "                        \"attachment; filename= %s\" % filename1)\n",
    "        msg.attach(part)\n",
    "\n",
    "    try:\n",
    "        server = smtplib.SMTP('smtp.office365.com', 587)\n",
    "        server.ehlo()\n",
    "        server.starttls()\n",
    "        server.login('recursoshumanos1@cnccol.com', 'Juanjo0921')\n",
    "        text = msg.as_string()\n",
    "        server.sendmail(email_sender, email_recipient, text)\n",
    "        print('email sent')\n",
    "        server.quit()\n",
    "    except:\n",
    "        print(\"SMPT server connection error\")\n",
    "    return True\n"
   ]
  },
  {
   "cell_type": "code",
   "execution_count": 25,
   "metadata": {},
   "outputs": [
    {
     "name": "stdout",
     "output_type": "stream",
     "text": [
      "email sent\n"
     ]
    }
   ],
   "source": [
    "content = open('email_codificadores.txt')\n",
    "\n",
    "email_recipient = 'ebuitrago@cnccol.com'\n",
    "email_subject = 'ebuitragod@gmail.com'\n",
    "email_message = content.read()\n",
    "attachment_location = input_file\n",
    "attachment_location1 = '02_pruebas/1020738989 - Esperanza Buitrago: Contrato como codificador. CNC.pdf'\n",
    "\n",
    "x = send_email(email_recipient,\n",
    "               email_subject,\n",
    "               email_message,\n",
    "               attachment_location,\n",
    "               attachment_location1)"
   ]
  },
  {
   "cell_type": "code",
   "execution_count": 27,
   "metadata": {},
   "outputs": [
    {
     "data": {
      "text/plain": [
       "bool"
      ]
     },
     "execution_count": 27,
     "metadata": {},
     "output_type": "execute_result"
    }
   ],
   "source": [
    "email_message\n",
    "type(x)"
   ]
  },
  {
   "cell_type": "code",
   "execution_count": 28,
   "metadata": {},
   "outputs": [],
   "source": [
    "#Convertir Monitores.xlsx en diccionario\n",
    "#===paths\n",
    "path = '01_codificadores/'\n",
    "path_contratos = path + '01_contratos/'\n",
    "path_acuerdos = path + '02_acuerdos_confidencialidad'\n",
    "#===base\n",
    "base_codificadores = pd.read_excel(path  + '00_Codificadores contratar.xlsx')\n",
    "base = base_codificadores\n",
    "\n",
    "#===documentos\n",
    "acuerdo = path + '01_ACUERDO DE CONFIDENCIALIDAD VF.docx'\n",
    "contrato = path + '01_CC6193-01 Minuta codificador(a) Icfes VF 231120.docx'\n"
   ]
  },
  {
   "cell_type": "code",
   "execution_count": null,
   "metadata": {},
   "outputs": [],
   "source": [
    "columns = ['Nombre',\n",
    "          'Cédula',\n",
    "          'Correo electrónico']\n",
    "base = base[columns]\n",
    "base.head()\n",
    "\n",
    "base['Cédula'] = base['Cédula'].astype(str)\n",
    "base['Correo electrónico'].astype(str)"
   ]
  },
  {
   "cell_type": "code",
   "execution_count": 30,
   "metadata": {},
   "outputs": [
    {
     "data": {
      "text/html": [
       "<div>\n",
       "<style scoped>\n",
       "    .dataframe tbody tr th:only-of-type {\n",
       "        vertical-align: middle;\n",
       "    }\n",
       "\n",
       "    .dataframe tbody tr th {\n",
       "        vertical-align: top;\n",
       "    }\n",
       "\n",
       "    .dataframe thead th {\n",
       "        text-align: right;\n",
       "    }\n",
       "</style>\n",
       "<table border=\"1\" class=\"dataframe\">\n",
       "  <thead>\n",
       "    <tr style=\"text-align: right;\">\n",
       "      <th></th>\n",
       "      <th>Nombre</th>\n",
       "      <th>Cédula</th>\n",
       "      <th>Correo electrónico</th>\n",
       "    </tr>\n",
       "  </thead>\n",
       "  <tbody>\n",
       "    <tr>\n",
       "      <th>0</th>\n",
       "      <td>Eliana Julieth Calderon  Castaneda</td>\n",
       "      <td>1022418108</td>\n",
       "      <td>elianajcalderonc@gmail.com</td>\n",
       "    </tr>\n",
       "    <tr>\n",
       "      <th>1</th>\n",
       "      <td>Lady Viviana Abril Barbosa</td>\n",
       "      <td>1026576316</td>\n",
       "      <td>abril.vivi1@gmail.com</td>\n",
       "    </tr>\n",
       "    <tr>\n",
       "      <th>2</th>\n",
       "      <td>Byron Sebastian Davila Fandino</td>\n",
       "      <td>1022393019</td>\n",
       "      <td>bsdavilaf@gmail.com</td>\n",
       "    </tr>\n",
       "    <tr>\n",
       "      <th>3</th>\n",
       "      <td>Sebastian  Ramirez Mosos</td>\n",
       "      <td>1020806611</td>\n",
       "      <td>seramirezmo@unal.edu.co</td>\n",
       "    </tr>\n",
       "    <tr>\n",
       "      <th>4</th>\n",
       "      <td>Ana Isabel Castrillon Collazgos</td>\n",
       "      <td>1061726949</td>\n",
       "      <td>anicastrillonco@gmail.com</td>\n",
       "    </tr>\n",
       "  </tbody>\n",
       "</table>\n",
       "</div>"
      ],
      "text/plain": [
       "                               Nombre      Cédula          Correo electrónico\n",
       "0  Eliana Julieth Calderon  Castaneda  1022418108  elianajcalderonc@gmail.com\n",
       "1          Lady Viviana Abril Barbosa  1026576316       abril.vivi1@gmail.com\n",
       "2      Byron Sebastian Davila Fandino  1022393019         bsdavilaf@gmail.com\n",
       "3            Sebastian  Ramirez Mosos  1020806611     seramirezmo@unal.edu.co\n",
       "4     Ana Isabel Castrillon Collazgos  1061726949   anicastrillonco@gmail.com"
      ]
     },
     "execution_count": 30,
     "metadata": {},
     "output_type": "execute_result"
    }
   ],
   "source": [
    "base.head()"
   ]
  },
  {
   "cell_type": "code",
   "execution_count": 32,
   "metadata": {},
   "outputs": [],
   "source": [
    "from time import sleep"
   ]
  },
  {
   "cell_type": "code",
   "execution_count": 33,
   "metadata": {},
   "outputs": [
    {
     "name": "stdout",
     "output_type": "stream",
     "text": [
      "Fields included in 01_codificadores/01_CC6193-01 Minuta codificador(a) Icfes VF 231120.docx: {'CEDULA', 'NOMBRE_COMPLETO', 'VIGENCIA', 'DURACIÓN', 'firma'}\n",
      "El documento .docx de 1022418108-Eliana Julieth Calderon  Castanedaha sido creado exitosamente.\n",
      "['/usr/bin/soffice', '--convert-to', 'pdf', '01_codificadores/01_contratos/1022418108 - Eliana Julieth Calderon  Castaneda: Contrato como codificador. CNC.docx']\n",
      "Fields included in 01_codificadores/01_ACUERDO DE CONFIDENCIALIDAD VF.docx: {'CEDULA', 'NOMBRE_COMPLETO'}\n",
      "El documento .docx de 1022418108-Eliana Julieth Calderon  Castanedaha sido creado exitosamente.\n",
      "['/usr/bin/soffice', '--convert-to', 'pdf', '01_codificadores/01_contratos/1022418108 - Eliana Julieth Calderon  Castaneda: Acuerdo de confidencialidad. CNC.docx']\n"
     ]
    },
    {
     "ename": "NameError",
     "evalue": "name 'input_file1' is not defined",
     "output_type": "error",
     "traceback": [
      "\u001b[0;31m---------------------------------------------------------------------------\u001b[0m",
      "\u001b[0;31mNameError\u001b[0m                                 Traceback (most recent call last)",
      "\u001b[0;32m<ipython-input-33-e743b38bc51d>\u001b[0m in \u001b[0;36m<module>\u001b[0;34m\u001b[0m\n\u001b[1;32m     47\u001b[0m         \u001b[0memail_recipient\u001b[0m \u001b[0;34m=\u001b[0m \u001b[0mrow\u001b[0m\u001b[0;34m[\u001b[0m\u001b[0;34m'Correo electrónico'\u001b[0m\u001b[0;34m]\u001b[0m\u001b[0;34m\u001b[0m\u001b[0;34m\u001b[0m\u001b[0m\n\u001b[1;32m     48\u001b[0m         \u001b[0mattachment_location\u001b[0m \u001b[0;34m=\u001b[0m \u001b[0minput_file\u001b[0m\u001b[0;34m\u001b[0m\u001b[0;34m\u001b[0m\u001b[0m\n\u001b[0;32m---> 49\u001b[0;31m         \u001b[0mattachment_location1\u001b[0m \u001b[0;34m=\u001b[0m \u001b[0minput_file1\u001b[0m\u001b[0;34m\u001b[0m\u001b[0;34m\u001b[0m\u001b[0m\n\u001b[0m\u001b[1;32m     50\u001b[0m \u001b[0;34m\u001b[0m\u001b[0m\n\u001b[1;32m     51\u001b[0m         \u001b[0mbase\u001b[0m\u001b[0;34m[\u001b[0m\u001b[0;34m'correo_enviado'\u001b[0m\u001b[0;34m]\u001b[0m \u001b[0;34m=\u001b[0m \u001b[0msend_email\u001b[0m\u001b[0;34m(\u001b[0m\u001b[0memail_recipient\u001b[0m\u001b[0;34m,\u001b[0m \u001b[0memail_subject\u001b[0m\u001b[0;34m,\u001b[0m \u001b[0memail_message\u001b[0m\u001b[0;34m,\u001b[0m \u001b[0mattachment_location\u001b[0m\u001b[0;34m,\u001b[0m \u001b[0mattachment_location1\u001b[0m\u001b[0;34m)\u001b[0m\u001b[0;34m\u001b[0m\u001b[0;34m\u001b[0m\u001b[0m\n",
      "\u001b[0;31mNameError\u001b[0m: name 'input_file1' is not defined"
     ]
    }
   ],
   "source": [
    "from time import sleep\n",
    "#Documentos y valores de las funciones\n",
    "contrato = '01_codificadores/01_CC6193-01 Minuta codificador(a) Icfes VF 231120.docx'\n",
    "acuerdo = '01_codificadores/01_ACUERDO DE CONFIDENCIALIDAD VF.docx'\n",
    "\n",
    "\n",
    "\n",
    "#para el envio del correo\n",
    "content = open('email_codificadores.txt')\n",
    "email_subject = 'recursoshumanos1@cnccol.com'\n",
    "email_message = content.read()\n",
    "\n",
    "from validate_email import validate_email \n",
    "list = []\n",
    "for index, row in base.iterrows():\n",
    "    correo = row['Correo electrónico']\n",
    "    is_valid = validate_email(correo)\n",
    "    if is_valid == False:\n",
    "        list.append(correo)\n",
    "    else:\n",
    "        nombre_completo = row['Nombre']\n",
    "        #print(nombre_completo)\n",
    "        cedula = row['Cédula']\n",
    "        #print(cedula)\n",
    "        nombre_output = cedula + ' - ' + nombre_completo + ': Contrato como codificador. CNC'\n",
    "        #Escribiendo contratos\n",
    "        template = contrato\n",
    "        path_output_docx = '01_codificadores/01_contratos/'\n",
    "        path_output_pdf = '01_codificadores/03_attachments/'\n",
    "        write_docs(cedula, nombre_completo, nombre_output,  template, path_output_docx, path_output_pdf)\n",
    "        input_file = path_output_pdf + nombre_output + '.pdf'\n",
    "        #user_pass = cedula\n",
    "        #owner_pass = 'ContratosCodific4d0r3sCNC!'\n",
    "        #sleep(3)\n",
    "        #set_password(input_file, user_pass, owner_pass)\n",
    "\n",
    "        #Escribiendo acuerdos\n",
    "        sleep(3)\n",
    "        template = acuerdo\n",
    "        nombre_output = cedula + ' - ' + nombre_completo + ': Acuerdo de confidencialidad. CNC'\n",
    "        path_output_docx = '01_codificadores/02_acuerdos_confidencialidad/'\n",
    "        path_output_pdf = '01_codificadores/03_attachments/'\n",
    "        write_docs(cedula, nombre_completo, nombre_output,  template, path_output_docx, path_output_pdf)\n",
    "        input_file1 = path_output_pdf + nombre_output + '.pdf'\n",
    "        #user_pass = cedula\n",
    "        #owner_pass = 'ContratosCodific4d0r3sCNC!'\n",
    "        #sleep(3)\n",
    "        #set_password(input_file, user_pass, owner_pass)\n",
    "        \n",
    "        sleep(5)\n",
    "        email_recipient = row['Correo electrónico']\n",
    "        attachment_location = input_file\n",
    "        attachment_location1 = input_file1\n",
    "        \n",
    "        base['correo_enviado'] = send_email(email_recipient, email_subject, email_message, attachment_location, attachment_location1)\n",
    "        \n",
    "        "
   ]
  },
  {
   "cell_type": "code",
   "execution_count": null,
   "metadata": {},
   "outputs": [],
   "source": []
  },
  {
   "cell_type": "code",
   "execution_count": 118,
   "metadata": {},
   "outputs": [
    {
     "name": "stdout",
     "output_type": "stream",
     "text": [
      "Fields included in 01_codificadores/01_ACUERDO DE CONFIDENCIALIDAD VF.docx: {'NOMBRE_COMPLETO', 'CEDULA'}\n",
      "El documento .docx de 1020738980-Esperanza vuitragoha sido creado exitosamente.\n",
      "['/usr/bin/soffice', '--convert-to', 'pdf', '01_codificadores/02_acuerdos_confidencialidad1020738980 - Esperanza vuitrago: Contrato como codificador. CNC.docx']\n"
     ]
    }
   ],
   "source": []
  },
  {
   "cell_type": "code",
   "execution_count": null,
   "metadata": {},
   "outputs": [],
   "source": [
    "list = []\n",
    "if is_valid == False:\n",
    "    list.append()"
   ]
  }
 ],
 "metadata": {
  "kernelspec": {
   "display_name": "Python 3",
   "language": "python",
   "name": "python3"
  },
  "language_info": {
   "codemirror_mode": {
    "name": "ipython",
    "version": 3
   },
   "file_extension": ".py",
   "mimetype": "text/x-python",
   "name": "python",
   "nbconvert_exporter": "python",
   "pygments_lexer": "ipython3",
   "version": "3.8.5"
  }
 },
 "nbformat": 4,
 "nbformat_minor": 4
}
