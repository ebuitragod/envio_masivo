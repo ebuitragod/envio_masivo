{
 "cells": [
  {
   "cell_type": "markdown",
   "metadata": {},
   "source": [
    "CédulaCédulaCédulaPasos: \n",
    "1. Escribir el documento\n",
    "2. Llenar el documento\n",
    "3. Exportarlo a pdf\n",
    "4. setear la contraseña del pdf\n",
    "5. configurar el envío de correos"
   ]
  },
  {
   "cell_type": "code",
   "execution_count": 7,
   "metadata": {},
   "outputs": [],
   "source": [
    "#Escribir y llenar el documento\n",
    "import pandas as pd\n",
    "from __future__ import print_function\n",
    "#from mailmerge import MailMerge\n",
    "import mailmerge\n",
    "from datetime import date\n",
    "\n",
    "#Exportarlo a pdf\n",
    "from fpdf import FPDF \n",
    "from docx2pdf import convert\n",
    "\n",
    "#Setear la contraseña\n",
    "import PyPDF2\n",
    "import os\n",
    "import argparse\n",
    "\n",
    "#Enviar correos masivos"
   ]
  },
  {
   "cell_type": "markdown",
   "metadata": {},
   "source": [
    "Escribir y llenar el documento"
   ]
  },
  {
   "cell_type": "code",
   "execution_count": 15,
   "metadata": {},
   "outputs": [],
   "source": [
    "def convert_to_pdf(input_docx, out_folder):\n",
    "    from subprocess import  Popen\n",
    "    LIBRE_OFFICE = r\"/usr/bin/soffice\"\n",
    "\n",
    "    p = Popen([LIBRE_OFFICE, '--headless', '--convert-to', 'pdf', '--outdir',\n",
    "               out_folder, input_docx])\n",
    "    print([LIBRE_OFFICE, '--convert-to', 'pdf', input_docx])\n",
    "    p.communicate()\n",
    "    \n",
    "    \n",
    "def write_docs(cedula, nombre_completo, nombre_output,  template, path_output_docx = '', path_output_pdf = ''):\n",
    "    \"\"\"\n",
    "    Esta función crea un .docx, lo pasa a formato pdf y setea un password. \n",
    "    Los fields del template son {'CEDULA', 'DURACIÓN', 'NOMBRE_COMPLETO', 'firma'}.\n",
    "    Luego lo conviLIBRE_OFFICE = r\"C:\\Program Files\\LibreOffice\\program\\soffice.exe\"\n",
    "    \"\"\"\n",
    "\n",
    "    document = mailmerge.MailMerge(template)\n",
    "    print(\"Fields included in {}: {}\".format(template,\n",
    "                                             document.get_merge_fields()))\n",
    "\n",
    "    document.merge(\n",
    "        CEDULA = cedula,\n",
    "        NOMBRE_COMPLETO = nombre_completo,\n",
    "        DURACIÓN = 'Un mes',\n",
    "        firma = '',\n",
    "        VIGENCIA = '1 al 31 de diciembre',\n",
    "    )\n",
    "    #Crear documentos en word\n",
    "    output_docx = path_output_docx + nombre_output + '.docx'\n",
    "    \n",
    "    document.write(output_docx)\n",
    "    print('El documento .docx de '+ cedula + '-' + nombre_completo +'ha sido creado exitosamente.')\n",
    "    \n",
    "    input_docx = output_docx\n",
    "    #Crear documentos en pdf\n",
    "    convert_to_pdf(input_docx, path_output_pdf)\n",
    "\n",
    "\n",
    "#documentation https://pbpython.com/python-word-template.html\n",
    "# Define the templates - assumes they are in the same directory as the code\n"
   ]
  },
  {
   "cell_type": "code",
   "execution_count": 16,
   "metadata": {},
   "outputs": [
    {
     "name": "stdout",
     "output_type": "stream",
     "text": [
      "Fields included in 01_codificadores/01_CC6193-01 Minuta codificador(a) Icfes VF 231120.docx: {'CEDULA', 'NOMBRE_COMPLETO', 'VIGENCIA', 'DURACIÓN', 'firma'}\n",
      "El documento .docx de 1020738980-Esperanza vuitragoha sido creado exitosamente.\n",
      "['/usr/bin/soffice', '--convert-to', 'pdf', '02_pruebas/1020738980 - Esperanza vuitrago: Contrato como codificador. CNC.docx']\n"
     ]
    }
   ],
   "source": [
    "path = '01_codificadores/'\n",
    "contrato = path + '01_CC6193-01 Minuta codificador(a) Icfes VF 231120.docx'\n",
    "template = contrato\n",
    "document = mailmerge.MailMerge(template)\n",
    "path_output_docx = '02_pruebas/'\n",
    "path_output_pdf = path_output_docx\n",
    "#print(\"Fields included in {}: {}\".format(template,\n",
    "#                                             document.get_merge_fields()))\n",
    "\n",
    "cedula = '1020738980'\n",
    "nombre_completo = 'Esperanza vuitrago'\n",
    "nombre_output = cedula + ' - ' + nombre_completo + ': Contrato como codificador. CNC'\n",
    "\n",
    "\n",
    "write_docs(cedula, nombre_completo, nombre_output,  template, path_output_docx, path_output_pdf)\n"
   ]
  },
  {
   "cell_type": "markdown",
   "metadata": {},
   "source": [
    "Exportarlo a .pdf y setear la contrase;a"
   ]
  },
  {
   "cell_type": "code",
   "execution_count": 17,
   "metadata": {},
   "outputs": [],
   "source": [
    "#Set a password\n",
    "def set_password(input_file, user_pass, owner_pass):\n",
    "    \"\"\"\n",
    "    Function creates new temporary pdf file with same content,\n",
    "    assigns given password to pdf and rename it with original file.\n",
    "    \"\"\"\n",
    "    # temporary output file with name same as input file but prepended\n",
    "    # by \"temp_\", inside same direcory as input file.\n",
    "    path, filename = os.path.split(input_file)\n",
    "    output_file = os.path.join(path, \"contrato_\" + filename)\n",
    "\n",
    " \n",
    "\n",
    "    output = PyPDF2.PdfFileWriter()\n",
    "\n",
    " \n",
    "\n",
    "    input_stream = PyPDF2.PdfFileReader(open(input_file, \"rb\"))\n",
    "\n",
    " \n",
    "\n",
    "    for i in range(0, input_stream.getNumPages()):\n",
    "        output.addPage(input_stream.getPage(i))\n",
    "\n",
    " \n",
    "\n",
    "    outputStream = open(output_file, \"wb\")\n",
    "\n",
    " \n",
    "\n",
    "    # Set user and owner password to pdf file\n",
    "    output.encrypt(user_pass, owner_pass, use_128bit=True)\n",
    "    output.write(outputStream)\n",
    "    outputStream.close()\n",
    "\n",
    " \n",
    "\n",
    "    # Rename temporary output file with original filename, this\n",
    "    # will automatically delete temporary file\n",
    "    #os.rename(output_file, input_file)\n",
    "\n",
    "# def main():\n",
    "#     parser = argparse.ArgumentParser()\n",
    "#     parser.add_argument('-i', '--input_pdf', required=True,\n",
    "#                         help='Input pdf file')\n",
    "#     parser.add_argument('-p', '--user_password', required=True,\n",
    "#                         help='output CSV file')\n",
    "#     parser.add_argument('-o', '--owner_password', default=None,\n",
    "#                         help='Owner Password')\n",
    "#     args = parser.parse_args()\n",
    "#     set_password(args.input_pdf, args.user_password, args.owner_password)\n",
    "\n",
    "\n",
    "\n",
    "# if __name__ == \"__main__\":\n",
    "#     main()\n",
    "    \n"
   ]
  },
  {
   "cell_type": "code",
   "execution_count": null,
   "metadata": {},
   "outputs": [],
   "source": [
    "input_file = path_output_pdf + 'contrato_' + nombre_output + '.pdf'\n",
    "user_pass = cedula\n",
    "owner_pass = '75369512480'\n",
    "set_password(input_file, user_pass, owner_pass)"
   ]
  },
  {
   "cell_type": "code",
   "execution_count": 19,
   "metadata": {},
   "outputs": [],
   "source": [
    "content = open('email_codificadores.txt')\n",
    "\n",
    "#email_recipient = 'ebuitrago@cnccol.com'\n",
    "email_subject = 'ebuitragod@gmail.com'\n",
    "email_message = content.read()\n",
    "attachment_location = input_file"
   ]
  },
  {
   "cell_type": "code",
   "execution_count": 19,
   "metadata": {},
   "outputs": [],
   "source": [
    "send_email(email_recipient,\n",
    "               email_subject,\n",
    "               email_message,\n",
    "               attachment_location)"
   ]
  },
  {
   "cell_type": "code",
   "execution_count": 41,
   "metadata": {},
   "outputs": [],
   "source": [
    "import smtplib\n",
    "from email.mime.text import MIMEText\n",
    "from email.mime.multipart import MIMEMultipart\n",
    "from email.mime.base import MIMEBase\n",
    "from email import encoders\n",
    "import os.path\n",
    "from docx2pdf import convert\n",
    "import PyPDF2\n",
    "import os\n",
    "import argparse\n",
    "import pandas as pd\n",
    "from __future__ import print_function\n",
    "from mailmerge import MailMerge\n",
    "from datetime import date\n",
    "\n",
    "correo_envio = 'recursoshumanos1@cnccol.com'\n",
    "pass_correo_envio = 'Juanjo0921'\n",
    "\n",
    "def send_email(email_recipient,\n",
    "               email_subject,\n",
    "               email_message,\n",
    "               attachment_location = '',\n",
    "               attachment_location1 = ''):\n",
    "\n",
    "    email_sender = 'recursoshumanos1@cnccol.com'\n",
    "\n",
    "    msg = MIMEMultipart()\n",
    "    msg['From'] = email_sender\n",
    "    msg['To'] = email_recipient\n",
    "    msg['Subject'] = email_subject\n",
    "\n",
    "    msg.attach(MIMEText(email_message, 'plain'))\n",
    "\n",
    "    if attachment_location != '':\n",
    "        filename = os.path.basename(attachment_location)\n",
    "        attachment = open(attachment_location, \"rb\")\n",
    "        part = MIMEBase('application', 'octet-stream')\n",
    "        part.set_payload(attachment.read())\n",
    "        encoders.encode_base64(part)\n",
    "        part.add_header('Content-Disposition',\n",
    "                        \"attachment; filename= %s\" % filename)\n",
    "        msg.attach(part)\n",
    "\n",
    "        filename1 = os.path.basename(attachment_location1)\n",
    "        attachment1 = open(attachment_location1, \"rb\")\n",
    "        part = MIMEBase('application', 'octet-stream')\n",
    "        part.set_payload(attachment1.read())\n",
    "        encoders.encode_base64(part)\n",
    "        part.add_header('Content-Disposition',\n",
    "                        \"attachment; filename= %s\" % filename1)\n",
    "        msg.attach(part)\n",
    "\n",
    "    try:\n",
    "        server = smtplib.SMTP('smtp.office365.com', 587)\n",
    "        server.ehlo()\n",
    "        server.starttls()\n",
    "        server.login('recursoshumanos1@cnccol.com', 'Juanjo0921')\n",
    "        text = msg.as_string()\n",
    "        server.sendmail(email_sender, email_recipient, text)\n",
    "        print('el correo ha sido enviado a: ' + email_recipient)\n",
    "        server.quit()\n",
    "    except:\n",
    "        print(\"SMPT server connection error\")\n",
    "    return True\n"
   ]
  },
  {
   "cell_type": "code",
   "execution_count": 25,
   "metadata": {},
   "outputs": [
    {
     "name": "stdout",
     "output_type": "stream",
     "text": [
      "email sent\n"
     ]
    }
   ],
   "source": [
    "content = open('email_codificadores.txt')\n",
    "\n",
    "email_recipient = 'ebuitrago@cnccol.com'\n",
    "email_subject = 'ebuitragod@gmail.com'\n",
    "email_message = content.read()\n",
    "attachment_location = input_file\n",
    "attachment_location1 = '02_pruebas/1020738989 - Esperanza Buitrago: Contrato como codificador. CNC.pdf'\n",
    "\n",
    "x = send_email(email_recipient,\n",
    "               email_subject,\n",
    "               email_message,\n",
    "               attachment_location,\n",
    "               attachment_location1)"
   ]
  },
  {
   "cell_type": "code",
   "execution_count": 27,
   "metadata": {},
   "outputs": [
    {
     "data": {
      "text/plain": [
       "bool"
      ]
     },
     "execution_count": 27,
     "metadata": {},
     "output_type": "execute_result"
    }
   ],
   "source": [
    "email_message\n",
    "type(x)"
   ]
  },
  {
   "cell_type": "code",
   "execution_count": 28,
   "metadata": {},
   "outputs": [],
   "source": [
    "#Convertir Monitores.xlsx en diccionario\n",
    "#===paths\n",
    "path = '01_codificadores/'\n",
    "path_contratos = path + '01_contratos/'\n",
    "path_acuerdos = path + '02_acuerdos_confidencialidad'\n",
    "#===base\n",
    "base_codificadores = pd.read_excel(path  + '00_Codificadores contratar.xlsx')\n",
    "base = base_codificadores\n",
    "\n",
    "#===documentos\n",
    "acuerdo = path + '01_ACUERDO DE CONFIDENCIALIDAD VF.docx'\n",
    "contrato = path + '01_CC6193-01 Minuta codificador(a) Icfes VF 231120.docx'\n"
   ]
  },
  {
   "cell_type": "code",
   "execution_count": null,
   "metadata": {},
   "outputs": [],
   "source": [
    "columns = ['Nombre',\n",
    "          'Cédula',\n",
    "          'Correo electrónico']\n",
    "base = base[columns]\n",
    "base.head()\n",
    "\n",
    "base['Cédula'] = base['Cédula'].astype(str)\n",
    "base['Correo electrónico'].astype(str)"
   ]
  },
  {
   "cell_type": "code",
   "execution_count": 44,
   "metadata": {},
   "outputs": [
    {
     "name": "stdout",
     "output_type": "stream",
     "text": [
      "<class 'pandas.core.frame.DataFrame'>\n",
      "RangeIndex: 460 entries, 0 to 459\n",
      "Data columns (total 4 columns):\n",
      " #   Column              Non-Null Count  Dtype  \n",
      "---  ------              --------------  -----  \n",
      " 0   Nombre              460 non-null    object \n",
      " 1   Cédula              460 non-null    object \n",
      " 2   Correo electrónico  460 non-null    object \n",
      " 3   correo_enviado      0 non-null      float64\n",
      "dtypes: float64(1), object(3)\n",
      "memory usage: 14.5+ KB\n"
     ]
    },
    {
     "ename": "IndexError",
     "evalue": "list index out of range",
     "output_type": "error",
     "traceback": [
      "\u001b[0;31m---------------------------------------------------------------------------\u001b[0m",
      "\u001b[0;31mIndexError\u001b[0m                                Traceback (most recent call last)",
      "\u001b[0;32m<ipython-input-44-8be6b862fff5>\u001b[0m in \u001b[0;36m<module>\u001b[0;34m\u001b[0m\n\u001b[1;32m      1\u001b[0m \u001b[0mbase\u001b[0m\u001b[0;34m.\u001b[0m\u001b[0mhead\u001b[0m\u001b[0;34m(\u001b[0m\u001b[0;34m)\u001b[0m\u001b[0;34m\u001b[0m\u001b[0;34m\u001b[0m\u001b[0m\n\u001b[1;32m      2\u001b[0m \u001b[0mbase\u001b[0m\u001b[0;34m.\u001b[0m\u001b[0minfo\u001b[0m\u001b[0;34m(\u001b[0m\u001b[0;34m)\u001b[0m\u001b[0;34m\u001b[0m\u001b[0;34m\u001b[0m\u001b[0m\n\u001b[0;32m----> 3\u001b[0;31m \u001b[0mbase\u001b[0m\u001b[0;34m[\u001b[0m\u001b[0;34m'correo_enviado'\u001b[0m\u001b[0;34m]\u001b[0m \u001b[0;34m=\u001b[0m \u001b[0mbase\u001b[0m\u001b[0;34m[\u001b[0m\u001b[0;34m'Cédula'\u001b[0m\u001b[0;34m]\u001b[0m\u001b[0;34m\u001b[0m\u001b[0;34m\u001b[0m\u001b[0m\n\u001b[0m",
      "\u001b[0;32m~/anaconda3/envs/venv/lib/python3.8/site-packages/pandas/core/frame.py\u001b[0m in \u001b[0;36m__setitem__\u001b[0;34m(self, key, value)\u001b[0m\n\u001b[1;32m   3038\u001b[0m         \u001b[0;32melse\u001b[0m\u001b[0;34m:\u001b[0m\u001b[0;34m\u001b[0m\u001b[0;34m\u001b[0m\u001b[0m\n\u001b[1;32m   3039\u001b[0m             \u001b[0;31m# set column\u001b[0m\u001b[0;34m\u001b[0m\u001b[0;34m\u001b[0m\u001b[0;34m\u001b[0m\u001b[0m\n\u001b[0;32m-> 3040\u001b[0;31m             \u001b[0mself\u001b[0m\u001b[0;34m.\u001b[0m\u001b[0m_set_item\u001b[0m\u001b[0;34m(\u001b[0m\u001b[0mkey\u001b[0m\u001b[0;34m,\u001b[0m \u001b[0mvalue\u001b[0m\u001b[0;34m)\u001b[0m\u001b[0;34m\u001b[0m\u001b[0;34m\u001b[0m\u001b[0m\n\u001b[0m\u001b[1;32m   3041\u001b[0m \u001b[0;34m\u001b[0m\u001b[0m\n\u001b[1;32m   3042\u001b[0m     \u001b[0;32mdef\u001b[0m \u001b[0m_setitem_slice\u001b[0m\u001b[0;34m(\u001b[0m\u001b[0mself\u001b[0m\u001b[0;34m,\u001b[0m \u001b[0mkey\u001b[0m\u001b[0;34m:\u001b[0m \u001b[0mslice\u001b[0m\u001b[0;34m,\u001b[0m \u001b[0mvalue\u001b[0m\u001b[0;34m)\u001b[0m\u001b[0;34m:\u001b[0m\u001b[0;34m\u001b[0m\u001b[0;34m\u001b[0m\u001b[0m\n",
      "\u001b[0;32m~/anaconda3/envs/venv/lib/python3.8/site-packages/pandas/core/frame.py\u001b[0m in \u001b[0;36m_set_item\u001b[0;34m(self, key, value)\u001b[0m\n\u001b[1;32m   3121\u001b[0m         \u001b[0;31m# value exception to occur first\u001b[0m\u001b[0;34m\u001b[0m\u001b[0;34m\u001b[0m\u001b[0;34m\u001b[0m\u001b[0m\n\u001b[1;32m   3122\u001b[0m         \u001b[0;32mif\u001b[0m \u001b[0mlen\u001b[0m\u001b[0;34m(\u001b[0m\u001b[0mself\u001b[0m\u001b[0;34m)\u001b[0m\u001b[0;34m:\u001b[0m\u001b[0;34m\u001b[0m\u001b[0;34m\u001b[0m\u001b[0m\n\u001b[0;32m-> 3123\u001b[0;31m             \u001b[0mself\u001b[0m\u001b[0;34m.\u001b[0m\u001b[0m_check_setitem_copy\u001b[0m\u001b[0;34m(\u001b[0m\u001b[0;34m)\u001b[0m\u001b[0;34m\u001b[0m\u001b[0;34m\u001b[0m\u001b[0m\n\u001b[0m\u001b[1;32m   3124\u001b[0m \u001b[0;34m\u001b[0m\u001b[0m\n\u001b[1;32m   3125\u001b[0m     \u001b[0;32mdef\u001b[0m \u001b[0m_set_value\u001b[0m\u001b[0;34m(\u001b[0m\u001b[0mself\u001b[0m\u001b[0;34m,\u001b[0m \u001b[0mindex\u001b[0m\u001b[0;34m,\u001b[0m \u001b[0mcol\u001b[0m\u001b[0;34m,\u001b[0m \u001b[0mvalue\u001b[0m\u001b[0;34m,\u001b[0m \u001b[0mtakeable\u001b[0m\u001b[0;34m:\u001b[0m \u001b[0mbool\u001b[0m \u001b[0;34m=\u001b[0m \u001b[0;32mFalse\u001b[0m\u001b[0;34m)\u001b[0m\u001b[0;34m:\u001b[0m\u001b[0;34m\u001b[0m\u001b[0;34m\u001b[0m\u001b[0m\n",
      "\u001b[0;32m~/anaconda3/envs/venv/lib/python3.8/site-packages/pandas/core/generic.py\u001b[0m in \u001b[0;36m_check_setitem_copy\u001b[0;34m(self, stacklevel, t, force)\u001b[0m\n\u001b[1;32m   3672\u001b[0m             \u001b[0;32mraise\u001b[0m \u001b[0mcom\u001b[0m\u001b[0;34m.\u001b[0m\u001b[0mSettingWithCopyError\u001b[0m\u001b[0;34m(\u001b[0m\u001b[0mt\u001b[0m\u001b[0;34m)\u001b[0m\u001b[0;34m\u001b[0m\u001b[0;34m\u001b[0m\u001b[0m\n\u001b[1;32m   3673\u001b[0m         \u001b[0;32melif\u001b[0m \u001b[0mvalue\u001b[0m \u001b[0;34m==\u001b[0m \u001b[0;34m\"warn\"\u001b[0m\u001b[0;34m:\u001b[0m\u001b[0;34m\u001b[0m\u001b[0;34m\u001b[0m\u001b[0m\n\u001b[0;32m-> 3674\u001b[0;31m             \u001b[0mwarnings\u001b[0m\u001b[0;34m.\u001b[0m\u001b[0mwarn\u001b[0m\u001b[0;34m(\u001b[0m\u001b[0mt\u001b[0m\u001b[0;34m,\u001b[0m \u001b[0mcom\u001b[0m\u001b[0;34m.\u001b[0m\u001b[0mSettingWithCopyWarning\u001b[0m\u001b[0;34m,\u001b[0m \u001b[0mstacklevel\u001b[0m\u001b[0;34m=\u001b[0m\u001b[0mstacklevel\u001b[0m\u001b[0;34m)\u001b[0m\u001b[0;34m\u001b[0m\u001b[0;34m\u001b[0m\u001b[0m\n\u001b[0m\u001b[1;32m   3675\u001b[0m \u001b[0;34m\u001b[0m\u001b[0m\n\u001b[1;32m   3676\u001b[0m     \u001b[0;32mdef\u001b[0m \u001b[0m__delitem__\u001b[0m\u001b[0;34m(\u001b[0m\u001b[0mself\u001b[0m\u001b[0;34m,\u001b[0m \u001b[0mkey\u001b[0m\u001b[0;34m)\u001b[0m \u001b[0;34m->\u001b[0m \u001b[0;32mNone\u001b[0m\u001b[0;34m:\u001b[0m\u001b[0;34m\u001b[0m\u001b[0;34m\u001b[0m\u001b[0m\n",
      "\u001b[0;32m~/anaconda3/envs/venv/lib/python3.8/warnings.py\u001b[0m in \u001b[0;36m_showwarnmsg\u001b[0;34m(msg)\u001b[0m\n\u001b[1;32m    107\u001b[0m                                 \"function or method\")\n\u001b[1;32m    108\u001b[0m \u001b[0;34m\u001b[0m\u001b[0m\n\u001b[0;32m--> 109\u001b[0;31m             sw(msg.message, msg.category, msg.filename, msg.lineno,\n\u001b[0m\u001b[1;32m    110\u001b[0m                msg.file, msg.line)\n\u001b[1;32m    111\u001b[0m             \u001b[0;32mreturn\u001b[0m\u001b[0;34m\u001b[0m\u001b[0;34m\u001b[0m\u001b[0m\n",
      "\u001b[0;32m~/anaconda3/envs/venv/lib/python3.8/site-packages/PyPDF2/pdf.py\u001b[0m in \u001b[0;36m_showwarning\u001b[0;34m(message, category, filename, lineno, file, line)\u001b[0m\n\u001b[1;32m   1067\u001b[0m                     \u001b[0mfile\u001b[0m \u001b[0;34m=\u001b[0m \u001b[0msys\u001b[0m\u001b[0;34m.\u001b[0m\u001b[0mstderr\u001b[0m\u001b[0;34m\u001b[0m\u001b[0;34m\u001b[0m\u001b[0m\n\u001b[1;32m   1068\u001b[0m                 \u001b[0;32mtry\u001b[0m\u001b[0;34m:\u001b[0m\u001b[0;34m\u001b[0m\u001b[0;34m\u001b[0m\u001b[0m\n\u001b[0;32m-> 1069\u001b[0;31m                     \u001b[0mfile\u001b[0m\u001b[0;34m.\u001b[0m\u001b[0mwrite\u001b[0m\u001b[0;34m(\u001b[0m\u001b[0mformatWarning\u001b[0m\u001b[0;34m(\u001b[0m\u001b[0mmessage\u001b[0m\u001b[0;34m,\u001b[0m \u001b[0mcategory\u001b[0m\u001b[0;34m,\u001b[0m \u001b[0mfilename\u001b[0m\u001b[0;34m,\u001b[0m \u001b[0mlineno\u001b[0m\u001b[0;34m,\u001b[0m \u001b[0mline\u001b[0m\u001b[0;34m)\u001b[0m\u001b[0;34m)\u001b[0m\u001b[0;34m\u001b[0m\u001b[0;34m\u001b[0m\u001b[0m\n\u001b[0m\u001b[1;32m   1070\u001b[0m                 \u001b[0;32mexcept\u001b[0m \u001b[0mIOError\u001b[0m\u001b[0;34m:\u001b[0m\u001b[0;34m\u001b[0m\u001b[0;34m\u001b[0m\u001b[0m\n\u001b[1;32m   1071\u001b[0m                     \u001b[0;32mpass\u001b[0m\u001b[0;34m\u001b[0m\u001b[0;34m\u001b[0m\u001b[0m\n",
      "\u001b[0;32m~/anaconda3/envs/venv/lib/python3.8/site-packages/PyPDF2/utils.py\u001b[0m in \u001b[0;36mformatWarning\u001b[0;34m(message, category, filename, lineno, line)\u001b[0m\n\u001b[1;32m     67\u001b[0m \u001b[0;31m#custom implementation of warnings.formatwarning\u001b[0m\u001b[0;34m\u001b[0m\u001b[0;34m\u001b[0m\u001b[0;34m\u001b[0m\u001b[0m\n\u001b[1;32m     68\u001b[0m \u001b[0;32mdef\u001b[0m \u001b[0mformatWarning\u001b[0m\u001b[0;34m(\u001b[0m\u001b[0mmessage\u001b[0m\u001b[0;34m,\u001b[0m \u001b[0mcategory\u001b[0m\u001b[0;34m,\u001b[0m \u001b[0mfilename\u001b[0m\u001b[0;34m,\u001b[0m \u001b[0mlineno\u001b[0m\u001b[0;34m,\u001b[0m \u001b[0mline\u001b[0m\u001b[0;34m=\u001b[0m\u001b[0;32mNone\u001b[0m\u001b[0;34m)\u001b[0m\u001b[0;34m:\u001b[0m\u001b[0;34m\u001b[0m\u001b[0;34m\u001b[0m\u001b[0m\n\u001b[0;32m---> 69\u001b[0;31m     \u001b[0mfile\u001b[0m \u001b[0;34m=\u001b[0m \u001b[0mfilename\u001b[0m\u001b[0;34m.\u001b[0m\u001b[0mreplace\u001b[0m\u001b[0;34m(\u001b[0m\u001b[0;34m\"/\"\u001b[0m\u001b[0;34m,\u001b[0m \u001b[0;34m\"\\\\\"\u001b[0m\u001b[0;34m)\u001b[0m\u001b[0;34m.\u001b[0m\u001b[0mrsplit\u001b[0m\u001b[0;34m(\u001b[0m\u001b[0;34m\"\\\\\"\u001b[0m\u001b[0;34m,\u001b[0m \u001b[0;36m1\u001b[0m\u001b[0;34m)\u001b[0m\u001b[0;34m[\u001b[0m\u001b[0;36m1\u001b[0m\u001b[0;34m]\u001b[0m \u001b[0;31m# find the file name\u001b[0m\u001b[0;34m\u001b[0m\u001b[0;34m\u001b[0m\u001b[0m\n\u001b[0m\u001b[1;32m     70\u001b[0m     \u001b[0;32mreturn\u001b[0m \u001b[0;34m\"%s: %s [%s:%s]\\n\"\u001b[0m \u001b[0;34m%\u001b[0m \u001b[0;34m(\u001b[0m\u001b[0mcategory\u001b[0m\u001b[0;34m.\u001b[0m\u001b[0m__name__\u001b[0m\u001b[0;34m,\u001b[0m \u001b[0mmessage\u001b[0m\u001b[0;34m,\u001b[0m \u001b[0mfile\u001b[0m\u001b[0;34m,\u001b[0m \u001b[0mlineno\u001b[0m\u001b[0;34m)\u001b[0m\u001b[0;34m\u001b[0m\u001b[0;34m\u001b[0m\u001b[0m\n\u001b[1;32m     71\u001b[0m \u001b[0;34m\u001b[0m\u001b[0m\n",
      "\u001b[0;31mIndexError\u001b[0m: list index out of range"
     ]
    }
   ],
   "source": [
    "base.head()\n",
    "base.info()\n",
    "base = \n",
    "base['correo_enviado'] = base['Cédula']"
   ]
  },
  {
   "cell_type": "code",
   "execution_count": 39,
   "metadata": {},
   "outputs": [],
   "source": [
    "from time import sleep\n",
    "#import numpy as np\n",
    "#base['correo_enviado'] = np.nan"
   ]
  },
  {
   "cell_type": "code",
   "execution_count": null,
   "metadata": {},
   "outputs": [],
   "source": [
    "#Documentos y valores de las funciones\n",
    "contrato = '01_codificadores/01_CC6193-01 Minuta codificador(a) Icfes VF 231120.docx'\n",
    "acuerdo = '01_codificadores/01_ACUERDO DE CONFIDENCIALIDAD VF.docx'\n",
    "\n",
    "\n",
    "\n",
    "#para el envio del correo\n",
    "content = open('email_codificadores.txt')\n",
    "email_subject = 'recursoshumanos1@cnccol.com'\n",
    "email_message = content.read()\n",
    "\n",
    "from validate_email import validate_email \n",
    "list = []\n",
    "for index, row in base.iterrows():\n",
    "    correo = row['Correo electrónico']\n",
    "    is_valid = validate_email(correo)\n",
    "    if is_valid == False:\n",
    "        list.append(correo)\n",
    "    else:\n",
    "        nombre_completo = row['Nombre']\n",
    "        #print(nombre_completo)\n",
    "        cedula = row['Cédula']\n",
    "        #print(cedula)\n",
    "        nombre_output = cedula + ' - ' + nombre_completo + ': Contrato como codificador. CNC'\n",
    "        #Escribiendo contratos\n",
    "        template = contrato\n",
    "        path_output_docx = '01_codificadores/01_contratos/'\n",
    "        path_output_pdf = '01_codificadores/03_attachments/'\n",
    "        write_docs(cedula, nombre_completo, nombre_output,  template, path_output_docx, path_output_pdf)\n",
    "        input_file = path_output_pdf + nombre_output + '.pdf'\n",
    "        #user_pass = cedula\n",
    "        #owner_pass = 'ContratosCodific4d0r3sCNC!'\n",
    "        #sleep(3)\n",
    "        #set_password(input_file, user_pass, owner_pass)\n",
    "\n",
    "        #Escribiendo acuerdos\n",
    "        sleep(3)\n",
    "        template = acuerdo\n",
    "        nombre_output = cedula + ' - ' + nombre_completo + ': Acuerdo de confidencialidad. CNC'\n",
    "        path_output_docx = '01_codificadores/02_acuerdos_confidencialidad/'\n",
    "        path_output_pdf = '01_codificadores/03_attachments/'\n",
    "        write_docs(cedula, nombre_completo, nombre_output,  template, path_output_docx, path_output_pdf)\n",
    "        input_file1 = path_output_pdf + nombre_output + '.pdf'\n",
    "        #user_pass = cedula\n",
    "        #owner_pass = 'ContratosCodific4d0r3sCNC!'\n",
    "        #sleep(3)\n",
    "        #set_password(input_file, user_pass, owner_pass)\n",
    "        \n",
    "        sleep(5)\n",
    "        email_recipient = row['Correo electrónico']\n",
    "        attachment_location = input_file\n",
    "        attachment_location1 = input_file1\n",
    "\n",
    "        send_email(email_recipient, email_subject, email_message, attachment_location, attachment_location1)\n",
    "        \n",
    "        "
   ]
  },
  {
   "cell_type": "code",
   "execution_count": null,
   "metadata": {},
   "outputs": [],
   "source": []
  },
  {
   "cell_type": "code",
   "execution_count": 118,
   "metadata": {},
   "outputs": [
    {
     "name": "stdout",
     "output_type": "stream",
     "text": [
      "Fields included in 01_codificadores/01_ACUERDO DE CONFIDENCIALIDAD VF.docx: {'NOMBRE_COMPLETO', 'CEDULA'}\n",
      "El documento .docx de 1020738980-Esperanza vuitragoha sido creado exitosamente.\n",
      "['/usr/bin/soffice', '--convert-to', 'pdf', '01_codificadores/02_acuerdos_confidencialidad1020738980 - Esperanza vuitrago: Contrato como codificador. CNC.docx']\n"
     ]
    }
   ],
   "source": []
  },
  {
   "cell_type": "code",
   "execution_count": null,
   "metadata": {},
   "outputs": [],
   "source": []
  }
 ],
 "metadata": {
  "kernelspec": {
   "display_name": "Python 3",
   "language": "python",
   "name": "python3"
  },
  "language_info": {
   "codemirror_mode": {
    "name": "ipython",
    "version": 3
   },
   "file_extension": ".py",
   "mimetype": "text/x-python",
   "name": "python",
   "nbconvert_exporter": "python",
   "pygments_lexer": "ipython3",
   "version": "3.8.5"
  }
 },
 "nbformat": 4,
 "nbformat_minor": 4
}
